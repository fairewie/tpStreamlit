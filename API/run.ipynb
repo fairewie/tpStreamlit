{
 "cells": [
  {
   "attachments": {},
   "cell_type": "markdown",
   "metadata": {},
   "source": [
    "# GET"
   ]
  },
  {
   "cell_type": "code",
   "execution_count": 3,
   "metadata": {},
   "outputs": [
    {
     "data": {
      "text/plain": [
       "b'\"Hello World\"'"
      ]
     },
     "execution_count": 3,
     "metadata": {},
     "output_type": "execute_result"
    }
   ],
   "source": [
    "import requests\n",
    "\n",
    "requests.get(\"http://0.0.0.0:4000/\").content"
   ]
  },
  {
   "cell_type": "code",
   "execution_count": 10,
   "metadata": {},
   "outputs": [
    {
     "data": {
      "text/plain": [
       "{'Text': 'La valeur au carré de 5 est 25', 'Value': 25}"
      ]
     },
     "execution_count": 10,
     "metadata": {},
     "output_type": "execute_result"
    }
   ],
   "source": [
    "requests.get(\"http://0.0.0.0:4000/square?number=5\").json()"
   ]
  },
  {
   "cell_type": "code",
   "execution_count": null,
   "metadata": {},
   "outputs": [],
   "source": []
  },
  {
   "cell_type": "code",
   "execution_count": 11,
   "metadata": {},
   "outputs": [],
   "source": [
    "from pydantic import BaseModel\n",
    "\n",
    "class Article(BaseModel):\n",
    "    title: str\n",
    "    content: str"
   ]
  },
  {
   "cell_type": "code",
   "execution_count": null,
   "metadata": {},
   "outputs": [],
   "source": []
  },
  {
   "cell_type": "code",
   "execution_count": 14,
   "metadata": {},
   "outputs": [],
   "source": [
    "article = Article(title=9, content=\"World\")"
   ]
  },
  {
   "cell_type": "code",
   "execution_count": 15,
   "metadata": {},
   "outputs": [
    {
     "data": {
      "text/plain": [
       "'9'"
      ]
     },
     "execution_count": 15,
     "metadata": {},
     "output_type": "execute_result"
    }
   ],
   "source": [
    "article.title"
   ]
  },
  {
   "attachments": {},
   "cell_type": "markdown",
   "metadata": {},
   "source": [
    "# Post"
   ]
  },
  {
   "cell_type": "code",
   "execution_count": 16,
   "metadata": {},
   "outputs": [
    {
     "data": {
      "text/plain": [
       "'{\"id\":{\"0\":1,\"1\":2,\"2\":3,\"3\":4,\"4\":5,\"5\":6,\"6\":7,\"7\":8,\"8\":9,\"9\":10,\"10\":11,\"11\":12,\"12\":13,\"13\":14},\"title\":{\"0\":\"API\",\"1\":\"Data Science\",\"2\":\"Cybersecurity\",\"3\":\"string\",\"4\":\"my blog\",\"5\":\"string\",\"6\":\"I love jedha\",\"7\":\"string\",\"8\":\"string\",\"9\":\"string\",\"10\":\"FastAPI\",\"11\":\"FastAPI\",\"12\":\"FastAPI\",\"13\":\"Hello\"},\"content\":{\"0\":\"An application programming interface (API) is a connection between computers or between computer programs. It is a type of software interface, offering a service to other pieces of software.[1] A document or standard that describes how to build or use such a connection or interface is called an API specification. A computer system that meets this standard is said to implement or expose an API. The term API may refer either to the specification or to the implementation.\\\\n\\\\nIn contrast to a user interface, which connects a computer to a person, an application programming interface connects computers or pieces of software to each other. It is not intended to be used directly by a person (the end user) other than a computer programmer who is incorporating it into software. An API is often made up of different parts which act as tools or services that are available to the programmer. A program or a programmer that uses one of these parts is said to call that portion of the API. The calls that make up the API are also known as subroutines, methods, requests, or endpoints. An API specification defines these calls, meaning that it explains how to use or implement them.\\\\n\\\\nOne purpose of APIs is to hide the internal details of how a system works, exposing only those parts a programmer will find useful and keeping them consistent even if the internal details later change. An API may be custom-built for a particular pair of systems, or it may be a shared standard allowing interoperability among many systems.\\\\n\\\\nThe term API is often used to refer to web APIs,[2] which allow communication between computers that are joined by the internet. There are also APIs for programming languages, software libraries, computer operating systems, and computer hardware. APIs originated in the 1940s, though the term did not emerge until the 1960s and 70s.\",\"1\":\"Data science is an interdisciplinary field that uses scientific methods, processes, algorithms and systems to extract knowledge and insights from noisy, structured and unstructured data,[1][2] and apply knowledge and actionable insights from data across a broad range of application domains. Data science is related to data mining, machine learning and big data.\\\\n\\\\nData science is a \\\\\"concept to unify statistics, data analysis, informatics, and their related methods\\\\\" in order to \\\\\"understand and analyze actual phenomena\\\\\" with data.[3] It uses techniques and theories drawn from many fields within the context of mathematics, statistics, computer science, information science, and domain knowledge. However, data science is different from computer science and information science. Turing Award winner Jim Gray imagined data science as a \\\\\"fourth paradigm\\\\\" of science (empirical, theoretical, computational, and now data-driven) and asserted that \\\\\"everything about science is changing because of the impact of information technology\\\\\" and the data deluge.[4][5]\\\\n\\\\nA data scientist is someone who creates programming code, and combines it with statistical knowledge to create insights from data.\",\"2\":\"Cybersecurity is the practice of protecting systems, networks, and programs from digital attacks. These cyberattacks are usually aimed at accessing, changing, or destroying sensitive information; extorting money from users; or interrupting normal business processes.\\\\n\\\\nImplementing effective cybersecurity measures is particularly challenging today because there are more devices than people, and attackers are becoming more innovative.\",\"3\":\"string\",\"4\":\"this is my blog content\",\"5\":\"string\",\"6\":\"I realy realy love jeadha\",\"7\":\"string\",\"8\":\"string\",\"9\":\"string\",\"10\":\"Content\",\"11\":\"Content\",\"12\":\"Content\",\"13\":\"World\"},\"author\":{\"0\":\"Wikipedia\",\"1\":\"Wikipedia\",\"2\":\"Cisco\",\"3\":\"Anonymous Author\",\"4\":\"Charles\",\"5\":\"Anonymous Author\",\"6\":\"Jedha lover\",\"7\":\"Anonymous Author\",\"8\":\"Anonymous Author\",\"9\":\"Anonymous Author\",\"10\":\"Kevin\",\"11\":\"Leo\",\"12\":\"Leo\",\"13\":\"Joe\"},\"body\":{\"0\":null,\"1\":null,\"2\":null,\"3\":null,\"4\":null,\"5\":null,\"6\":null,\"7\":null,\"8\":null,\"9\":null,\"10\":null,\"11\":null,\"12\":null,\"13\":null}}'"
      ]
     },
     "execution_count": 16,
     "metadata": {},
     "output_type": "execute_result"
    }
   ],
   "source": [
    "requests.post(\"http://0.0.0.0:4000/article\", \n",
    "              json={\n",
    "                    \"title\": \"Hello\",\n",
    "                    \"content\": \"World\",\n",
    "                    \"author\": \"Joe\"\n",
    "              }\n",
    "              ).json()"
   ]
  }
 ],
 "metadata": {
  "kernelspec": {
   "display_name": "Python 3",
   "language": "python",
   "name": "python3"
  },
  "language_info": {
   "codemirror_mode": {
    "name": "ipython",
    "version": 3
   },
   "file_extension": ".py",
   "mimetype": "text/x-python",
   "name": "python",
   "nbconvert_exporter": "python",
   "pygments_lexer": "ipython3",
   "version": "3.10.6"
  },
  "orig_nbformat": 4
 },
 "nbformat": 4,
 "nbformat_minor": 2
}
